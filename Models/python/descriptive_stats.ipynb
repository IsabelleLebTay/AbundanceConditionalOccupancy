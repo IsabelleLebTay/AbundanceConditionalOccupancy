{
 "cells": [
  {
   "cell_type": "code",
   "execution_count": 1,
   "metadata": {},
   "outputs": [
    {
     "name": "stderr",
     "output_type": "stream",
     "text": [
      "<frozen importlib._bootstrap>:219: RuntimeWarning: scipy._lib.messagestream.MessageStream size changed, may indicate binary incompatibility. Expected 56 from C header, got 64 from PyObject\n"
     ]
    }
   ],
   "source": [
    "import os\n",
    "import pandas as pd\n",
    "import matplotlib.pyplot as plt\n",
    "import seaborn as sns\n",
    "import math\n",
    "from scipy import stats\n",
    "import numpy as np\n",
    "import pickle\n",
    "import pprint # Pretty Printer!\n",
    "import warnings\n",
    "import statistics"
   ]
  },
  {
   "cell_type": "code",
   "execution_count": 2,
   "metadata": {},
   "outputs": [],
   "source": [
    "obs_path = \"C:/Users/ilebe/Documents/!Masters!/Analysis/0. Data/Processed/All Processed Final Location\"\n",
    "covariates_path = \"C:/Users/ilebe/Documents/!Masters!/Analysis/0. Data/Processed/covariates\"\n",
    "get_rid_of_these_sites_retn_too_large = [\"H23-RS-167\", \"H-RS-1-98\", \"H23-RS-109\"]\n",
    "mean_var_figure_path = r\"C:\\Users\\ilebe\\Documents\\!Masters!\\Analysis\\AbundanceConditionalOccupancy\\Output\\Mean and variance\""
   ]
  },
  {
   "cell_type": "code",
   "execution_count": 3,
   "metadata": {},
   "outputs": [],
   "source": [
    "# truncated_100m_counts = pd.read_csv(os.path.join(obs_path, \"Truncated_100m_count_per_site_filtered.csv\"))\n",
    "truncated_100m_counts = pd.read_csv(os.path.join(obs_path, \"Truncated_100m_count_per_site_filtered FIXED.csv\"))\n",
    "truncated_150m_counts = pd.read_csv(os.path.join(obs_path, \"Truncated_150m_count_per_site_filtered FIXED.csv\"))\n",
    "truncated_250m_counts = pd.read_csv(os.path.join(obs_path, \"Truncated_250m_count_per_site_filtered FIXED.csv\"))\n",
    "counts = pd.read_csv(os.path.join(obs_path, \"count_per_site_filtered.csv\")) # this is unlimited"
   ]
  },
  {
   "cell_type": "code",
   "execution_count": 4,
   "metadata": {},
   "outputs": [],
   "source": [
    "number_of_visits_per_site = pd.read_csv(os.path.join(obs_path, \"number_of_transcribed_recordings_per_site.csv\"))\n",
    "list_of_sites_to_use = number_of_visits_per_site[number_of_visits_per_site['number_of_visits'] >= 10]['location'].to_list()\n",
    "\n",
    "list_of_sites_to_use.remove(\"H23-RS-167\")\n",
    "list_of_sites_to_use.remove(\"H-RS-1-98\")\n",
    "list_of_sites_to_use.remove(\"H23-RS-109\")"
   ]
  },
  {
   "cell_type": "code",
   "execution_count": 5,
   "metadata": {},
   "outputs": [],
   "source": [
    "warnings.filterwarnings('ignore')\n",
    "truncCounts250_10vis = truncated_250m_counts[truncated_250m_counts['location'].isin(list_of_sites_to_use)]\n",
    "truncCounts250_10vis.sort_values('location', inplace=True)\n",
    "\n",
    "truncCounts150_10vis = truncated_150m_counts[truncated_150m_counts['location'].isin(list_of_sites_to_use)]\n",
    "truncCounts150_10vis.sort_values('location', inplace=True)\n",
    "\n",
    "truncCounts100_10vis = truncated_100m_counts[truncated_100m_counts['location'].isin(list_of_sites_to_use)]\n",
    "truncCounts100_10vis.sort_values('location', inplace=True)\n",
    "\n",
    "unlimitedCounts_10vis = counts[counts['location'].isin(list_of_sites_to_use)]\n",
    "unlimitedCounts_10vis.sort_values('location', inplace=True)"
   ]
  },
  {
   "cell_type": "markdown",
   "metadata": {},
   "source": [
    "# A. Mean to variacne ratio"
   ]
  },
  {
   "cell_type": "code",
   "execution_count": 6,
   "metadata": {},
   "outputs": [
    {
     "data": {
      "text/html": [
       "<div>\n",
       "<style scoped>\n",
       "    .dataframe tbody tr th:only-of-type {\n",
       "        vertical-align: middle;\n",
       "    }\n",
       "\n",
       "    .dataframe tbody tr th {\n",
       "        vertical-align: top;\n",
       "    }\n",
       "\n",
       "    .dataframe thead th {\n",
       "        text-align: right;\n",
       "    }\n",
       "</style>\n",
       "<table border=\"1\" class=\"dataframe\">\n",
       "  <thead>\n",
       "    <tr style=\"text-align: right;\">\n",
       "      <th></th>\n",
       "      <th>mean</th>\n",
       "      <th>variance</th>\n",
       "      <th>ratio</th>\n",
       "    </tr>\n",
       "  </thead>\n",
       "  <tbody>\n",
       "    <tr>\n",
       "      <th>100m</th>\n",
       "      <td>0.033163</td>\n",
       "      <td>0.037261</td>\n",
       "      <td>0.890037</td>\n",
       "    </tr>\n",
       "    <tr>\n",
       "      <th>150m</th>\n",
       "      <td>0.040816</td>\n",
       "      <td>0.039250</td>\n",
       "      <td>1.039894</td>\n",
       "    </tr>\n",
       "    <tr>\n",
       "      <th>250m</th>\n",
       "      <td>0.132653</td>\n",
       "      <td>0.130696</td>\n",
       "      <td>1.014976</td>\n",
       "    </tr>\n",
       "    <tr>\n",
       "      <th>unlimited</th>\n",
       "      <td>0.183673</td>\n",
       "      <td>0.237278</td>\n",
       "      <td>0.774087</td>\n",
       "    </tr>\n",
       "  </tbody>\n",
       "</table>\n",
       "</div>"
      ],
      "text/plain": [
       "               mean  variance     ratio\n",
       "100m       0.033163  0.037261  0.890037\n",
       "150m       0.040816  0.039250  1.039894\n",
       "250m       0.132653  0.130696  1.014976\n",
       "unlimited  0.183673  0.237278  0.774087"
      ]
     },
     "execution_count": 6,
     "metadata": {},
     "output_type": "execute_result"
    }
   ],
   "source": [
    "def get_max_count(dataframe, bird):\n",
    "    obs_count_10 = dataframe \n",
    "    sites_with_10_or_more_visits = obs_count_10['location'].value_counts() >= 10\n",
    "    sites_to_consider = sites_with_10_or_more_visits[sites_with_10_or_more_visits].index\n",
    "\n",
    "    filtered_obs_count = obs_count_10[obs_count_10['location'].isin(sites_to_consider)]\n",
    "\n",
    "    # Subsample to exactly 10 visits per site\n",
    "    final_obs_count = filtered_obs_count.groupby('location').apply(lambda x: x.sample(n=10, replace=False, random_state = 123)).reset_index(drop=True)\n",
    "    final_obs_count['visit_number'] = final_obs_count.groupby('location').cumcount() + 1\n",
    "    N_matrix_visit_num = final_obs_count.pivot(index='location', columns='visit_number', values=f\"{bird}\").fillna(0).astype(int).values.tolist()\n",
    "\n",
    "    # Calculate the maximum count encountered at each site\n",
    "    max_counts = [max(site_counts) for site_counts in N_matrix_visit_num]\n",
    "    return max_counts\n",
    "\n",
    "dist_dict = {'100m': truncCounts100_10vis, '150m': truncCounts150_10vis, '250m': truncCounts250_10vis, 'unlimited': unlimitedCounts_10vis}\n",
    "dist_list = [truncCounts100_10vis, truncCounts150_10vis, truncCounts250_10vis, unlimitedCounts_10vis]\n",
    "\n",
    "OSFL_mean_var_dict = {}\n",
    "for distance, dist_df in dist_dict.items():\n",
    "    mean = statistics.mean(get_max_count(dist_df, 'OSFL'))\n",
    "    variance = statistics.variance(get_max_count(dist_df, 'OSFL'))\n",
    "    ratio = mean/variance\n",
    "    OSFL_mean_var_dict[distance] = [mean, variance, ratio]\n",
    "\n",
    "\n",
    "OSFL_mean_var_df = pd.DataFrame.from_dict(OSFL_mean_var_dict, orient = 'index', columns = ['mean', 'variance', 'ratio'])\n",
    "OSFL_mean_var_df"
   ]
  },
  {
   "cell_type": "code",
   "execution_count": 7,
   "metadata": {},
   "outputs": [
    {
     "data": {
      "image/png": "[encoded data removed]",
      "text/plain": [
       "<Figure size 640x480 with 1 Axes>"
      ]
     },
     "metadata": {},
     "output_type": "display_data"
    }
   ],
   "source": [
    "# Plotting\n",
    "# OSFL_mean_var_df['ratio'].plot(kind='scatter')\n",
    "plt.scatter(range(len(OSFL_mean_var_df.index)), OSFL_mean_var_df['ratio'])\n",
    "\n",
    "# Customizing the plot\n",
    "plt.xticks(range(len(OSFL_mean_var_df.index)), OSFL_mean_var_df.index) # Set x-ticks to index values\n",
    "plt.title('OSFL')\n",
    "plt.ylabel('Mean to variance ratio')\n",
    "plt.xlabel('Index')\n",
    "plt.show()\n",
    "# plt.savefig()\n"
   ]
  },
  {
   "cell_type": "markdown",
   "metadata": {},
   "source": [
    "# B. Detection probailities"
   ]
  },
  {
   "cell_type": "markdown",
   "metadata": {},
   "source": [
    "$$\n",
    "P_{\\text{detection}}(site) = \\frac{N_{\\text{visits with detections}}}{N_{\\text{total visits}}}\n",
    "$$"
   ]
  },
  {
   "cell_type": "markdown",
   "metadata": {},
   "source": [
    "$$P_{\\text{average detection}} = \\frac{\\sum_{i=1}^{n} P_{\\text{detection}}(site_i)}{n}$$"
   ]
  },
  {
   "cell_type": "code",
   "execution_count": 1,
   "metadata": {},
   "outputs": [
    {
     "ename": "NameError",
     "evalue": "name 'truncCounts150_10vis' is not defined",
     "output_type": "error",
     "traceback": [
      "\u001b[1;31m---------------------------------------------------------------------------\u001b[0m",
      "\u001b[1;31mNameError\u001b[0m                                 Traceback (most recent call last)",
      "Cell \u001b[1;32mIn[1], line 2\u001b[0m\n\u001b[0;32m      1\u001b[0m \u001b[38;5;66;03m# Reading the obs_count_10.csv file\u001b[39;00m\n\u001b[1;32m----> 2\u001b[0m obs_count_10 \u001b[38;5;241m=\u001b[39m \u001b[43mtruncCounts150_10vis\u001b[49m\n\u001b[0;32m      3\u001b[0m \u001b[38;5;66;03m# obs_count_10 = truncCounts250_10vis\u001b[39;00m\n\u001b[0;32m      4\u001b[0m \u001b[38;5;66;03m# obs_count_10 = unlimitedCounts_10vis\u001b[39;00m\n\u001b[0;32m      5\u001b[0m \u001b[38;5;66;03m# Filter out sites with less than 10 visits\u001b[39;00m\n\u001b[0;32m      6\u001b[0m sites_with_10_or_more_visits \u001b[38;5;241m=\u001b[39m obs_count_10[\u001b[38;5;124m'\u001b[39m\u001b[38;5;124mlocation\u001b[39m\u001b[38;5;124m'\u001b[39m]\u001b[38;5;241m.\u001b[39mvalue_counts() \u001b[38;5;241m>\u001b[39m\u001b[38;5;241m=\u001b[39m \u001b[38;5;241m10\u001b[39m\n",
      "\u001b[1;31mNameError\u001b[0m: name 'truncCounts150_10vis' is not defined"
     ]
    }
   ],
   "source": [
    "# Reading the obs_count_10.csv file\n",
    "obs_count_10 = truncCounts150_10vis\n",
    "# obs_count_10 = truncCounts250_10vis\n",
    "# obs_count_10 = unlimitedCounts_10vis\n",
    "# Filter out sites with less than 10 visits\n",
    "sites_with_10_or_more_visits = obs_count_10['location'].value_counts() >= 10\n",
    "sites_to_consider = sites_with_10_or_more_visits[sites_with_10_or_more_visits].index\n",
    "\n",
    "filtered_obs_count = obs_count_10[obs_count_10['location'].isin(sites_to_consider)]\n",
    "# For each site, calculate the detection probability\n",
    "site_list = list(filtered_obs_count['location'].unique())\n",
    "# detection_probs = len(site_list)\n",
    "# detection_probs = {}\n",
    "detection_probs = []\n",
    "bird = 'OSFL'\n",
    "for site in site_list:\n",
    "    total_visits = filtered_obs_count.loc[filtered_obs_count['location'] == site].shape[0]\n",
    "    # print(total_visits)\n",
    "    detection_visits = filtered_obs_count.loc[filtered_obs_count['location'] == site].loc[filtered_obs_count[bird] >= 1].shape[0]\n",
    "    # print(detection_visits)\n",
    "    detection_probs.append(detection_visits/total_visits)\n",
    "# print(detection_probs)\n",
    "average_detection_prob = sum(detection_probs)/len(detection_probs)\n",
    "print(average_detection_prob)\n",
    "    "
   ]
  },
  {
   "cell_type": "code",
   "execution_count": null,
   "metadata": {},
   "outputs": [],
   "source": [
    "p = average_detection_prob\n",
    "d = 0.1\n",
    "def required_visits(p, d):\n",
    "    return math.ceil(math.log(d) / math.log(1-p))"
   ]
  },
  {
   "cell_type": "code",
   "execution_count": null,
   "metadata": {},
   "outputs": [],
   "source": [
    "visits = required_visits(p, d)\n",
    "print(visits)"
   ]
  }
 ],
 "metadata": {
  "kernelspec": {
   "display_name": "base",
   "language": "python",
   "name": "python3"
  },
  "language_info": {
   "codemirror_mode": {
    "name": "ipython",
    "version": 3
   },
   "file_extension": ".py",
   "mimetype": "text/x-python",
   "name": "python",
   "nbconvert_exporter": "python",
   "pygments_lexer": "ipython3",
   "version": "3.8.8"
  }
 },
 "nbformat": 4,
 "nbformat_minor": 2
}
